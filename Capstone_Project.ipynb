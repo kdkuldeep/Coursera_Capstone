{
 "cells": [
  {
   "cell_type": "markdown",
   "metadata": {},
   "source": [
    "# Capstone Project"
   ]
  },
  {
   "cell_type": "markdown",
   "metadata": {},
   "source": [
    "## Problem statement:"
   ]
  },
  {
   "cell_type": "markdown",
   "metadata": {},
   "source": [
    "### Comparison of similarity between different cities like New York, Toronto and Paris based on overall types of businesses in neighbourhoods."
   ]
  },
  {
   "cell_type": "markdown",
   "metadata": {},
   "source": [
    "## Approach:"
   ]
  },
  {
   "cell_type": "markdown",
   "metadata": {},
   "source": [
    "### 1. Pull data about neighbourhoods of the cities and create summary for whole city instead of what we did in last assignment ie. we created summary for neighbourhoods.\n",
    "### 2. Find euclidiean distance between two cities based on above mentioned summaries.\n",
    "### 3. Compare distance between cities to assess simalirities between cities.\n"
   ]
  },
  {
   "cell_type": "markdown",
   "metadata": {},
   "source": [
    "## Data sources:\n",
    "### 1. Wikipedia\n",
    "### 2. Foursquare\n",
    "\n",
    "## Important Packages:\n",
    "### 1. requests\n",
    "### 2. folium\n",
    "### 3. beautifulsoup"
   ]
  }
 ],
 "metadata": {
  "kernelspec": {
   "display_name": "Python 3",
   "language": "python",
   "name": "python3"
  },
  "language_info": {
   "codemirror_mode": {
    "name": "ipython",
    "version": 3
   },
   "file_extension": ".py",
   "mimetype": "text/x-python",
   "name": "python",
   "nbconvert_exporter": "python",
   "pygments_lexer": "ipython3",
   "version": "3.6.8"
  }
 },
 "nbformat": 4,
 "nbformat_minor": 2
}
